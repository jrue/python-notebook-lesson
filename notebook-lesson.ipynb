{
 "cells": [
  {
   "cell_type": "code",
   "execution_count": null,
   "metadata": {},
   "outputs": [],
   "source": [
    "import numpy as np\n",
    "import pandas as pd\n",
    "import matplotlib.pyplot as plt\n",
    "import seaborn as sns\n",
    "from scipy import stats"
   ]
  },
  {
   "cell_type": "markdown",
   "metadata": {},
   "source": [
    "### Set default options for Pandas to display more columns"
   ]
  },
  {
   "cell_type": "code",
   "execution_count": null,
   "metadata": {},
   "outputs": [],
   "source": [
    "pd.set_option('display.max_rows', 500)\n",
    "pd.set_option('display.max_columns', 500)\n",
    "pd.set_option('display.width', 1000)"
   ]
  },
  {
   "cell_type": "markdown",
   "metadata": {},
   "source": [
    "### Read the CSV that exists inside this directory\n",
    "\n",
    "We can optionally add `encoding='utf-8'` argument to ensure that the file is coming in with the correct encoding. \n",
    "\n",
    "The `df.head()` option will display the first five rows. We can also add an argument to head to display additional rows."
   ]
  },
  {
   "cell_type": "code",
   "execution_count": null,
   "metadata": {},
   "outputs": [],
   "source": [
    "df = pd.read_csv('epicurious-recipes.csv', encoding='utf-8')\n",
    "df.head()"
   ]
  },
  {
   "cell_type": "code",
   "execution_count": null,
   "metadata": {},
   "outputs": [],
   "source": [
    "len(df)"
   ]
  },
  {
   "cell_type": "markdown",
   "metadata": {},
   "source": [
    "### Graphing comparisons of these columns\n",
    "\n",
    "If we have multiple numerical columns, we can use seaborn to draw something called a **pairplot** to display scatter charts of all of the different combinations that exist within our dataset. This is a great way to see if any relationships exist within our dataset."
   ]
  },
  {
   "cell_type": "code",
   "execution_count": null,
   "metadata": {},
   "outputs": [],
   "source": [
    "# Seaborn Gallery: https://seaborn.pydata.org/examples/index.html\n",
    "\n",
    "sns.pairplot(df, vars=['calories','protein','fat','sodium'])"
   ]
  },
  {
   "cell_type": "markdown",
   "metadata": {},
   "source": [
    "### Let's make a category plot\n",
    "\n",
    "Rating is a difficult metric to analyze, because there are only a few values to consider. This dataset only has about 20 different rating values between 0 and 5, so it becomes more of a category than a granular numerical quantity. \n",
    "\n",
    "Let's trying comparing it to some of the nutrients in our dataset and see if we notice any patterns."
   ]
  },
  {
   "cell_type": "code",
   "execution_count": null,
   "metadata": {},
   "outputs": [],
   "source": [
    "sns.catplot(x=\"rating\", y=\"fat\", kind=\"box\", data=df)"
   ]
  },
  {
   "cell_type": "markdown",
   "metadata": {},
   "source": [
    "### Looking at the data in different ways\n",
    "\n",
    "We can look at the data in lots of different ways. One type of chart, called a **kernel density estimate** (or kde for short) can give us levels of intensity of where our values generally lie. But it's difficult to discern a clear pattern."
   ]
  },
  {
   "cell_type": "code",
   "execution_count": null,
   "metadata": {},
   "outputs": [],
   "source": [
    "sns.jointplot(x=\"rating\", y=\"calories\", data=df, kind=\"kde\", dropna=True);"
   ]
  },
  {
   "cell_type": "markdown",
   "metadata": {},
   "source": [
    "### Calculate R squared\n",
    "\n",
    "To get a better understanding of the relationship betwen ratings and nutrition, let's calculate the slope and find the R². "
   ]
  },
  {
   "cell_type": "code",
   "execution_count": null,
   "metadata": {},
   "outputs": [],
   "source": [
    "# Function to calcuate r2\n",
    "def r2(x,y):\n",
    "    return stats.pearsonr(x,y)[0] ** 2\n",
    "\n",
    "j = sns.jointplot(x=\"rating\", y=\"fat\", data=df, kind=\"reg\", dropna=True);\n",
    "j.annotate(r2)\n",
    "plt.show()"
   ]
  },
  {
   "cell_type": "markdown",
   "metadata": {},
   "source": [
    "### See the distribution of any one variable\n",
    "\n",
    "We can also plot the numerical distribtion of any single variable to understand its shape across all ranges. "
   ]
  },
  {
   "cell_type": "code",
   "execution_count": null,
   "metadata": {},
   "outputs": [],
   "source": [
    "sns.distplot(df['rating'],bins=10)\n",
    "\n",
    "##optionally add median line\n",
    "median = df['rating'].median()\n",
    "twentyfive = np.percentile(df['rating'], 25)\n",
    "seventyfive = np.percentile(df['rating'], 75)\n",
    "\n",
    "#plt.axvline(median, color='b', linestyle='--')"
   ]
  },
  {
   "cell_type": "markdown",
   "metadata": {},
   "source": [
    "### Closer look at other comparisons\n",
    "\n",
    "We can do jointplots for other metrics in our dataset."
   ]
  },
  {
   "cell_type": "code",
   "execution_count": null,
   "metadata": {
    "scrolled": false
   },
   "outputs": [],
   "source": [
    "sns.jointplot(x=\"calories\", y=\"fat\", data=df, kind=\"reg\")"
   ]
  },
  {
   "cell_type": "markdown",
   "metadata": {},
   "source": [
    "## Closer look at the outliers\n",
    "\n",
    "We can take a closer look at those two outliers that have nearly no fat, but over 1000 calories."
   ]
  },
  {
   "cell_type": "code",
   "execution_count": null,
   "metadata": {},
   "outputs": [],
   "source": [
    "df[(df['calories'] > 1000) & (df['fat'] < 5)]"
   ]
  },
  {
   "cell_type": "code",
   "execution_count": null,
   "metadata": {},
   "outputs": [],
   "source": []
  }
 ],
 "metadata": {
  "kernelspec": {
   "display_name": "Python 3",
   "language": "python",
   "name": "python3"
  },
  "language_info": {
   "codemirror_mode": {
    "name": "ipython",
    "version": 3
   },
   "file_extension": ".py",
   "mimetype": "text/x-python",
   "name": "python",
   "nbconvert_exporter": "python",
   "pygments_lexer": "ipython3",
   "version": "3.6.8"
  }
 },
 "nbformat": 4,
 "nbformat_minor": 2
}
